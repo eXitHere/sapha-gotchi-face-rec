{
    "cells": [
        {
            "cell_type": "code",
            "execution_count": 74,
            "source": [
                "from matplotlib import pyplot\r\n",
                "from PIL import Image\r\n",
                "import numpy as np\r\n",
                "from scipy.spatial.distance import cosine\r\n",
                "from mtcnn.mtcnn import MTCNN\r\n",
                "from keras_vggface.vggface import VGGFace\r\n",
                "from keras_vggface.utils import preprocess_input\r\n",
                "model = VGGFace(model='senet50', include_top=False, input_shape=(224, 224, 3), pooling='avg')\r\n",
                "\r\n",
                "# extract a single face from a given photograph\r\n",
                "def extract_face(filename, required_size=(224, 224)):\r\n",
                "\t# load image from file\r\n",
                "\tpixels = pyplot.imread(filename)\r\n",
                "\t# create the detector, using default weights\r\n",
                "\tdetector = MTCNN()\r\n",
                "\t# detect faces in the image\r\n",
                "\tresults = detector.detect_faces(pixels)\r\n",
                "\t# extract the bounding box from the first face\r\n",
                "\tx1, y1, width, height = results[0]['box']\r\n",
                "\tx2, y2 = x1 + width, y1 + height\r\n",
                "\t# extract the face\r\n",
                "\tface = pixels[y1:y2, x1:x2]\r\n",
                "\t# resize pixels to the model size\r\n",
                "\timage = Image.fromarray(face)\r\n",
                "\timage = image.resize(required_size)\r\n",
                "\tface_array = np.asarray(image)\r\n",
                "\treturn face_array\r\n",
                "\r\n",
                "# extract faces and calculate face embeddings for a list of photo files\r\n",
                "def get_embeddings(filenames):\r\n",
                "\t# extract faces\r\n",
                "\tfaces = [extract_face(f) for f in filenames]\r\n",
                "\t# convert into an array of samples\r\n",
                "\tsamples = np.asarray(faces, 'float32')\r\n",
                "\t# prepare the face for the model, e.g. center pixels\r\n",
                "\tsamples = preprocess_input(samples, version=2)\r\n",
                "\t# create a vggface model\r\n",
                "\t# perform prediction\r\n",
                "\tyhat = model.predict(samples)\r\n",
                "\tnp.save(open('data.stupi', 'wb'), yhat)\r\n",
                "\t# yhat = np.concatenate((train_data, yhat))\r\n",
                "\t\r\n",
                "\treturn yhat\r\n",
                "\r\n",
                "# determine if a candidate face is a match for a known face\r\n",
                "def is_match(known_embedding, candidate_embedding, thresh=0.5):\r\n",
                "\t# calculate distance between embeddings\r\n",
                "\tscore = cosine(known_embedding, candidate_embedding)\r\n",
                "\tif score <= thresh:\r\n",
                "\t\tprint('>face is a Match (%.3f <= %.3f)' % (score, thresh))\r\n",
                "\telse:\r\n",
                "\t\tprint('>face is NOT a Match (%.3f > %.3f)' % (score, thresh))\r\n"
            ],
            "outputs": [],
            "metadata": {}
        },
        {
            "cell_type": "code",
            "execution_count": 73,
            "source": [
                "filenames = ['images/prawit.jpg', 'images/prayut.jpg', 'images/anutin.jpg']\r\n",
                "# get embeddings file filenames\r\n",
                "embeddings = get_embeddings(filenames)\r\n",
                "# verify known photos of sharon\r\n",
                "# is_match(embeddings[0], embeddings[1])"
            ],
            "outputs": [
                {
                    "output_type": "stream",
                    "name": "stdout",
                    "text": [
                        ">face is NOT a Match (0.638 > 0.500)\n"
                    ]
                }
            ],
            "metadata": {}
        },
        {
            "cell_type": "code",
            "execution_count": 75,
            "source": [
                "filenames = ['images/prawit.jpg']\r\n",
                "# get embeddings file filenames\r\n",
                "embeddings = get_embeddings(filenames)\r\n",
                "# verify known photos of sharon\r\n",
                "is_match(embeddings[0], embeddings[1])"
            ],
            "outputs": [
                {
                    "output_type": "stream",
                    "name": "stdout",
                    "text": [
                        ">face is a Match (0.429 <= 0.500)\n"
                    ]
                }
            ],
            "metadata": {}
        },
        {
            "cell_type": "code",
            "execution_count": 68,
            "source": [
                "train_data = np.load(open('data.stupid', 'rb'))\r\n"
            ],
            "outputs": [],
            "metadata": {}
        },
        {
            "cell_type": "code",
            "execution_count": null,
            "source": [
                "filenames = ['images/picture.jpg']\r\n",
                "# get embeddings file filenames\r\n",
                "embeddings = get_embeddings(filenames)\r\n",
                "# verify known photos of sharon\r\n",
                "is_match(embeddings[0], embeddings[1])"
            ],
            "outputs": [],
            "metadata": {}
        },
        {
            "cell_type": "code",
            "execution_count": null,
            "source": [
                "import face_recognition\r\n",
                "known_image = face_recognition.load_image_file(\"images/1.jpg\")\r\n",
                "unknown_image = face_recognition.load_image_file(\"images/2.jpg\")\r\n",
                "\r\n",
                "biden_encoding = face_recognition.face_encodings(known_image)[0]\r\n",
                "unknown_encoding = face_recognition.face_encodings(unknown_image)[0]\r\n",
                "\r\n",
                "results = face_recognition.compare_faces([biden_encoding], unknown_encoding)\r\n",
                "print(results)"
            ],
            "outputs": [],
            "metadata": {}
        }
    ],
    "metadata": {
        "orig_nbformat": 4,
        "language_info": {
            "name": "python",
            "version": "3.9.5",
            "mimetype": "text/x-python",
            "codemirror_mode": {
                "name": "ipython",
                "version": 3
            },
            "pygments_lexer": "ipython3",
            "nbconvert_exporter": "python",
            "file_extension": ".py"
        },
        "kernelspec": {
            "name": "python3",
            "display_name": "Python 3.9.5 64-bit ('.venv': venv)"
        },
        "interpreter": {
            "hash": "7fda21d73ff8b3808649ed884bae0b201c7e0d8f619eb8999050016bd8f0cda7"
        }
    },
    "nbformat": 4,
    "nbformat_minor": 2
}